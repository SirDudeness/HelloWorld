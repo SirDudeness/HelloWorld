{
 "cells": [
  {
   "cell_type": "markdown",
   "metadata": {},
   "source": [
    "### Data science Homework 2"
   ]
  },
  {
   "cell_type": "markdown",
   "metadata": {},
   "source": [
    "#### In this week's section, we have learned how to predict whether a person would survive the Titanic accident or not using decision trees. In this homework, you will learn about how to evaluate the models we created. \n"
   ]
  },
  {
   "cell_type": "markdown",
   "metadata": {},
   "source": [
    "### 1. Reading and cleaning data\n",
    "\n",
    "First, let's quickly review the models we've built. In order to do it, we need to read in the data first."
   ]
  },
  {
   "cell_type": "code",
   "execution_count": 1,
   "metadata": {
    "collapsed": false
   },
   "outputs": [
    {
     "name": "stderr",
     "output_type": "stream",
     "text": [
      "/Users/emmayu/anaconda/lib/python2.7/site-packages/matplotlib/font_manager.py:273: UserWarning: Matplotlib is building the font cache using fc-list. This may take a moment.\n",
      "  warnings.warn('Matplotlib is building the font cache using fc-list. This may take a moment.')\n"
     ]
    }
   ],
   "source": [
    "#Importing Libaries \n",
    "import pandas as pd\n",
    "import matplotlib.pyplot as plt\n",
    "%matplotlib inline \n"
   ]
  },
  {
   "cell_type": "code",
   "execution_count": 2,
   "metadata": {
    "collapsed": true
   },
   "outputs": [],
   "source": [
    "#Fixing Pandas options to display all rows\n",
    "pd.set_option('display.max_rows', 1000)\n",
    "\n",
    "# Read in the data and clean it\n",
    "data = pd.read_csv('../train.csv')\n",
    "data.columns = [u'PassengerId', u'Survived', u'Class', u'Name', u'Gender', u'Age',\n",
    "       u'Siblings', u'Parents', u'Ticket', u'Fare', u'Cabin', u'Port']\n",
    "data = data.drop(['PassengerId', 'Cabin'], axis=1)\n",
    "data.Gender = data.Gender.map({'female' : 0, 'male' : 1})\n",
    "\n",
    "#Fill missing Ages and Fares with median\n",
    "data.loc[(data.Age.isnull()), 'Age'] = data['Age'].dropna().median()\n",
    "data.loc[(data.Fare.isnull()), 'Fare'] = data['Fare'].dropna().median()"
   ]
  },
  {
   "cell_type": "markdown",
   "metadata": {},
   "source": [
    "Now let's split the data into training and testing sets. We will only use the training data to train our models, and we will use the testing data to evaluate the performance of our models."
   ]
  },
  {
   "cell_type": "code",
   "execution_count": 3,
   "metadata": {
    "collapsed": false
   },
   "outputs": [
    {
     "name": "stderr",
     "output_type": "stream",
     "text": [
      "/Users/emmayu/anaconda/lib/python2.7/site-packages/sklearn/cross_validation.py:44: DeprecationWarning: This module was deprecated in version 0.18 in favor of the model_selection module into which all the refactored classes and functions are moved. Also note that the interface of the new CV iterators are different from that of this module. This module will be removed in 0.20.\n",
      "  \"This module will be removed in 0.20.\", DeprecationWarning)\n"
     ]
    },
    {
     "data": {
      "text/html": [
       "<div>\n",
       "<table border=\"1\" class=\"dataframe\">\n",
       "  <thead>\n",
       "    <tr style=\"text-align: right;\">\n",
       "      <th></th>\n",
       "      <th>Class</th>\n",
       "      <th>Name</th>\n",
       "      <th>Gender</th>\n",
       "      <th>Age</th>\n",
       "      <th>Siblings</th>\n",
       "      <th>Parents</th>\n",
       "      <th>Ticket</th>\n",
       "      <th>Fare</th>\n",
       "      <th>Port</th>\n",
       "    </tr>\n",
       "  </thead>\n",
       "  <tbody>\n",
       "    <tr>\n",
       "      <th>6</th>\n",
       "      <td>1</td>\n",
       "      <td>McCarthy, Mr. Timothy J</td>\n",
       "      <td>1</td>\n",
       "      <td>54.0</td>\n",
       "      <td>0</td>\n",
       "      <td>0</td>\n",
       "      <td>17463</td>\n",
       "      <td>51.8625</td>\n",
       "      <td>S</td>\n",
       "    </tr>\n",
       "    <tr>\n",
       "      <th>718</th>\n",
       "      <td>3</td>\n",
       "      <td>McEvoy, Mr. Michael</td>\n",
       "      <td>1</td>\n",
       "      <td>28.0</td>\n",
       "      <td>0</td>\n",
       "      <td>0</td>\n",
       "      <td>36568</td>\n",
       "      <td>15.5000</td>\n",
       "      <td>Q</td>\n",
       "    </tr>\n",
       "    <tr>\n",
       "      <th>685</th>\n",
       "      <td>2</td>\n",
       "      <td>Laroche, Mr. Joseph Philippe Lemercier</td>\n",
       "      <td>1</td>\n",
       "      <td>25.0</td>\n",
       "      <td>1</td>\n",
       "      <td>2</td>\n",
       "      <td>SC/Paris 2123</td>\n",
       "      <td>41.5792</td>\n",
       "      <td>C</td>\n",
       "    </tr>\n",
       "    <tr>\n",
       "      <th>73</th>\n",
       "      <td>3</td>\n",
       "      <td>Chronopoulos, Mr. Apostolos</td>\n",
       "      <td>1</td>\n",
       "      <td>26.0</td>\n",
       "      <td>1</td>\n",
       "      <td>0</td>\n",
       "      <td>2680</td>\n",
       "      <td>14.4542</td>\n",
       "      <td>C</td>\n",
       "    </tr>\n",
       "    <tr>\n",
       "      <th>882</th>\n",
       "      <td>3</td>\n",
       "      <td>Dahlberg, Miss. Gerda Ulrika</td>\n",
       "      <td>0</td>\n",
       "      <td>22.0</td>\n",
       "      <td>0</td>\n",
       "      <td>0</td>\n",
       "      <td>7552</td>\n",
       "      <td>10.5167</td>\n",
       "      <td>S</td>\n",
       "    </tr>\n",
       "  </tbody>\n",
       "</table>\n",
       "</div>"
      ],
      "text/plain": [
       "     Class                                    Name  Gender   Age  Siblings  \\\n",
       "6        1                 McCarthy, Mr. Timothy J       1  54.0         0   \n",
       "718      3                     McEvoy, Mr. Michael       1  28.0         0   \n",
       "685      2  Laroche, Mr. Joseph Philippe Lemercier       1  25.0         1   \n",
       "73       3             Chronopoulos, Mr. Apostolos       1  26.0         1   \n",
       "882      3            Dahlberg, Miss. Gerda Ulrika       0  22.0         0   \n",
       "\n",
       "     Parents         Ticket     Fare Port  \n",
       "6          0          17463  51.8625    S  \n",
       "718        0          36568  15.5000    Q  \n",
       "685        2  SC/Paris 2123  41.5792    C  \n",
       "73         0           2680  14.4542    C  \n",
       "882        0           7552  10.5167    S  "
      ]
     },
     "execution_count": 3,
     "metadata": {},
     "output_type": "execute_result"
    }
   ],
   "source": [
    "from sklearn.cross_validation import train_test_split\n",
    "\n",
    "X_train, X_test, y_train, y_test = train_test_split(\n",
    "    data.drop('Survived', axis=1), data['Survived'], test_size=0.33, random_state=42)\n",
    "X_train.head()"
   ]
  },
  {
   "cell_type": "markdown",
   "metadata": {},
   "source": [
    "### 2. Building decision tree models\n",
    "\n",
    "We are going to compare several different models, so it's convenient to make a function to slice the data and build a decision tree model. "
   ]
  },
  {
   "cell_type": "code",
   "execution_count": 12,
   "metadata": {
    "collapsed": true
   },
   "outputs": [],
   "source": [
    "from sklearn.tree import DecisionTreeClassifier\n",
    "\n",
    "def fit_a_tree(par):\n",
    "    dt= DecisionTreeClassifier()\n",
    "    dt.fit(X_train[par], y_train)\n",
    "    \n",
    "    train_score = dt.score(X_train[par], y_train)\n",
    "    test_score = dt.score(X_test[par], y_test)\n",
    "    return dt, train_score, test_score"
   ]
  },
  {
   "cell_type": "markdown",
   "metadata": {},
   "source": [
    "To run the model, we simply choose what parameters to include in the model by updating the \"par\" vairable, and feed it into the \"fit_a_tree\" function we just defined. For the paramaters, one can choose from 'Gender', 'Class', 'Fare', 'Parents', 'Age'. Here is an example:"
   ]
  },
  {
   "cell_type": "code",
   "execution_count": 16,
   "metadata": {
    "collapsed": false,
    "scrolled": true
   },
   "outputs": [
    {
     "data": {
      "text/plain": [
       "(DecisionTreeClassifier(class_weight=None, criterion='gini', max_depth=None,\n",
       "             max_features=None, max_leaf_nodes=None,\n",
       "             min_impurity_split=1e-07, min_samples_leaf=1,\n",
       "             min_samples_split=2, min_weight_fraction_leaf=0.0,\n",
       "             presort=False, random_state=None, splitter='best'),\n",
       " 0.7936241610738255,\n",
       " 0.77288135593220342)"
      ]
     },
     "execution_count": 16,
     "metadata": {},
     "output_type": "execute_result"
    }
   ],
   "source": [
    "par = ['Gender', 'Class']\n",
    "fit_a_tree(par)"
   ]
  },
  {
   "cell_type": "markdown",
   "metadata": {},
   "source": [
    "### Model evaluation \n",
    "Now we have a model, how well does it do on predicting whether a person survived or not?\n",
    "\n",
    "We tell how good a model is by looking at the accuracy of the predictions. The accuracy is simply the number of people you guess it right divided by the total number of guesses. The higher the accuracy is, the better our model is at making predictions.\n",
    "\n",
    "In the function defined above, the line \n",
    "```\n",
    "train_score = dt.score(X_train[par], y_train)\n",
    "```\n",
    "is calculating the model accuracy on the training data. This is the data we used to build the model.\n",
    "\n",
    "And the line\n",
    "```\n",
    "test_score = dt.score(X_test[par], y_test)\n",
    "```\n",
    "is calculating the model accuray on the testing data. This is the data that our model has never seen before. So this accuracy tells us how well our model is at prediciting NEW results.\n",
    "\n",
    "#### Let's look at our example with gender and class:"
   ]
  },
  {
   "cell_type": "code",
   "execution_count": 17,
   "metadata": {
    "collapsed": false
   },
   "outputs": [
    {
     "data": {
      "text/plain": [
       "(DecisionTreeClassifier(class_weight=None, criterion='gini', max_depth=None,\n",
       "             max_features=None, max_leaf_nodes=None,\n",
       "             min_impurity_split=1e-07, min_samples_leaf=1,\n",
       "             min_samples_split=2, min_weight_fraction_leaf=0.0,\n",
       "             presort=False, random_state=None, splitter='best'),\n",
       " 0.7936241610738255,\n",
       " 0.77288135593220342)"
      ]
     },
     "execution_count": 17,
     "metadata": {},
     "output_type": "execute_result"
    }
   ],
   "source": [
    "par = ['Gender', 'Class']\n",
    "fit_a_tree(par)"
   ]
  },
  {
   "cell_type": "markdown",
   "metadata": {},
   "source": [
    "We see a training accuracy of 0.79. That mean our model predicts the result correctly for 79% of the people. The second number is the testing accuray, and it means our model predicts 77% of people in the new dataset currectly. \n",
    "\n",
    "#### Question 1:\n",
    "Why is the training accuracy greater than the testing accuracy?"
   ]
  },
  {
   "cell_type": "code",
   "execution_count": null,
   "metadata": {
    "collapsed": true
   },
   "outputs": [],
   "source": []
  },
  {
   "cell_type": "markdown",
   "metadata": {},
   "source": [
    "#### Question 2:\n",
    "Let's call our fist model with ['Gender', 'Class'] model 1. Can you make another decision tree model (model 2) that includes 'Gender', 'Class' and 'Fare'? What about one (model 3) with 'Gender', 'Class', 'Fare', and 'Age'?\n",
    "\n"
   ]
  },
  {
   "cell_type": "code",
   "execution_count": null,
   "metadata": {
    "collapsed": true
   },
   "outputs": [],
   "source": []
  },
  {
   "cell_type": "markdown",
   "metadata": {},
   "source": [
    "#### Quesiton 3: \n",
    "Which model has the highest accuracy on training data? "
   ]
  },
  {
   "cell_type": "code",
   "execution_count": null,
   "metadata": {
    "collapsed": true
   },
   "outputs": [],
   "source": []
  },
  {
   "cell_type": "markdown",
   "metadata": {},
   "source": [
    "#### Question 4:\n",
    "Which model has the higher accuracy on testing data? "
   ]
  },
  {
   "cell_type": "code",
   "execution_count": null,
   "metadata": {
    "collapsed": true
   },
   "outputs": [],
   "source": []
  },
  {
   "cell_type": "markdown",
   "metadata": {},
   "source": [
    "#### Question 5:\n",
    "Which model do you think is the best on predicting whether random a person will survive the accident or not? Why?\n"
   ]
  },
  {
   "cell_type": "code",
   "execution_count": null,
   "metadata": {
    "collapsed": true
   },
   "outputs": [],
   "source": []
  }
 ],
 "metadata": {
  "kernelspec": {
   "display_name": "Python 2",
   "language": "python",
   "name": "python2"
  },
  "language_info": {
   "codemirror_mode": {
    "name": "ipython",
    "version": 2
   },
   "file_extension": ".py",
   "mimetype": "text/x-python",
   "name": "python",
   "nbconvert_exporter": "python",
   "pygments_lexer": "ipython2",
   "version": "2.7.12"
  }
 },
 "nbformat": 4,
 "nbformat_minor": 0
}

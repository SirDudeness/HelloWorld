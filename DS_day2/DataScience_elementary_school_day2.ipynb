{
 "cells": [
  {
   "cell_type": "markdown",
   "metadata": {},
   "source": [
    "# Data Science!   -  Day #2"
   ]
  },
  {
   "cell_type": "markdown",
   "metadata": {},
   "source": [
    "To run the code on each cell below, hit  <b>SHIFT + ENTER</b>"
   ]
  },
  {
   "cell_type": "markdown",
   "metadata": {},
   "source": [
    "## Python"
   ]
  },
  {
   "cell_type": "markdown",
   "metadata": {},
   "source": [
    "We still have lots of Python programming to learn! :)"
   ]
  },
  {
   "cell_type": "code",
   "execution_count": null,
   "metadata": {
    "collapsed": false
   },
   "outputs": [],
   "source": [
    "#Do you remember what strings are?\n",
    "fruit = \"banana\"\n",
    "baked_good = \" nut bread\" #what happens if we take the space out?\n",
    "print fruit + baked_good"
   ]
  },
  {
   "cell_type": "code",
   "execution_count": null,
   "metadata": {
    "collapsed": false
   },
   "outputs": [],
   "source": [
    "#What is the output?\n",
    "fruits = ['apples', 'cherries', 'pears']\n",
    "fruits[1]"
   ]
  },
  {
   "cell_type": "code",
   "execution_count": null,
   "metadata": {
    "collapsed": false
   },
   "outputs": [],
   "source": [
    "#How about in this case?\n",
    "prices = [3.99, 6.00, 10.00, 5.25]\n",
    "prices[0]"
   ]
  },
  {
   "cell_type": "markdown",
   "metadata": {},
   "source": [
    "We are selecting elements of our list by their index"
   ]
  },
  {
   "cell_type": "code",
   "execution_count": null,
   "metadata": {
    "collapsed": false
   },
   "outputs": [],
   "source": [
    "#What will be the result below? \n",
    "x = 3\n",
    "y = x**2\n",
    "print y"
   ]
  },
  {
   "cell_type": "code",
   "execution_count": null,
   "metadata": {
    "collapsed": false
   },
   "outputs": [],
   "source": [
    "#A lot of computations involve processing a list\n",
    "#one element at time\n",
    "prime_nums = [2, 3, 5, 7, 11, 13, 17, 19, 23, 29, 31]\n",
    "\n",
    "for num in prime_nums:\n",
    "    print num ** 2"
   ]
  },
  {
   "cell_type": "markdown",
   "metadata": {},
   "source": [
    "Let us create a function to do the same as above"
   ]
  },
  {
   "cell_type": "code",
   "execution_count": null,
   "metadata": {
    "collapsed": true
   },
   "outputs": [],
   "source": [
    "#Function len returns the number of elements in the list\n",
    "my_list = ['a', 'b', 'c', 'd']\n",
    "len(my_list)"
   ]
  },
  {
   "cell_type": "code",
   "execution_count": null,
   "metadata": {
    "collapsed": false
   },
   "outputs": [],
   "source": [
    "#First, what is this function doing? \n",
    "range(5)\n",
    "#range(len(prime_nums))"
   ]
  },
  {
   "cell_type": "code",
   "execution_count": null,
   "metadata": {
    "collapsed": true
   },
   "outputs": [],
   "source": [
    "def square_the_list(list1):\n",
    "    list2 = [] #this is how we declare a list \n",
    "    \n",
    "    for index in range(len(list1)):\n",
    "        list2.append(list1[index] ** 2) \n",
    "        \n",
    "    return list2"
   ]
  },
  {
   "cell_type": "code",
   "execution_count": null,
   "metadata": {
    "collapsed": true
   },
   "outputs": [],
   "source": [
    "#More 'Pythonic'.\n",
    "def square_the_list(list1):\n",
    "    list2 = [] #this is how we declare a list \n",
    "    \n",
    "    for number in list1:\n",
    "        list2.append(number ** 2)\n",
    "        \n",
    "    return list2"
   ]
  },
  {
   "cell_type": "code",
   "execution_count": null,
   "metadata": {
    "collapsed": false
   },
   "outputs": [],
   "source": [
    "#Do we get the same results?\n",
    "\n",
    "prime_nums = [2, 3, 5, 7, 11, 13, 17, 19, 23, 29, 31]\n",
    "\n",
    "# Complete the code \n",
    "print square_the_list(?)"
   ]
  },
  {
   "cell_type": "code",
   "execution_count": null,
   "metadata": {
    "collapsed": true
   },
   "outputs": [],
   "source": [
    "#How can we change the input x and y so that we have other statements?\n",
    "x = ? #example: x = 5\n",
    "y = ? #example: y = 8\n",
    "\n",
    "if x < y:\n",
    "    print 'Hah! x is smaller than y'\n",
    "    \n",
    "elif x > y:\n",
    "    print x * y\n",
    "    \n",
    "else:\n",
    "    print x - y"
   ]
  },
  {
   "cell_type": "markdown",
   "metadata": {},
   "source": [
    "### Conditional statements"
   ]
  },
  {
   "cell_type": "markdown",
   "metadata": {},
   "source": [
    "```python\n",
    "if x < y:\n",
    "    STATEMENTS_A\n",
    "elif x > y:\n",
    "    STATEMENTS_B\n",
    "else:\n",
    "    STATEMENTS_C\n",
    "```"
   ]
  },
  {
   "cell_type": "markdown",
   "metadata": {
    "collapsed": false
   },
   "source": [
    "![](../Images/if_flow.jpg)"
   ]
  },
  {
   "cell_type": "code",
   "execution_count": null,
   "metadata": {
    "collapsed": false
   },
   "outputs": [],
   "source": [
    "#What is happening to the weather today?\n",
    "\n",
    "weather = raw_input(\"What is the weather like: \")\n",
    "\n",
    "if weather == \"raining\":\n",
    "    print(\"Take an umbrella\")\n",
    "    \n",
    "elif weather == \"cold\":\n",
    "    print(\"Take a coat\")\n",
    "    \n",
    "elif weather == \"sunny\":\n",
    "    print(\"Wear sunscreen\")\n",
    "    \n",
    "else:\n",
    "    print(\"Have a good day, whatever the weather!\")"
   ]
  },
  {
   "cell_type": "markdown",
   "metadata": {},
   "source": [
    "# Decision Tree"
   ]
  },
  {
   "cell_type": "markdown",
   "metadata": {},
   "source": [
    "This is a Decision Tree, if you look at it upside down it looks like a tree."
   ]
  },
  {
   "cell_type": "markdown",
   "metadata": {},
   "source": [
    "![](../Images/tree.png)"
   ]
  },
  {
   "cell_type": "markdown",
   "metadata": {},
   "source": [
    "## Eg. 20 Question or Guess Who!"
   ]
  },
  {
   "cell_type": "markdown",
   "metadata": {},
   "source": [
    "![](../Images/guesswho1.JPG)"
   ]
  },
  {
   "cell_type": "markdown",
   "metadata": {},
   "source": [
    "What questions would eliminate most candidates?\n",
    "\n",
    "a) Is it efficient to ask \"Does he/she has a big nose\"?\n",
    "\n",
    "b) Is it efficient to ask \"Is he/she is bald\"?"
   ]
  },
  {
   "cell_type": "markdown",
   "metadata": {},
   "source": [
    "# Back to the Titanic \n",
    "## In case you have not seeing this dataset...Welcome to Titanic!"
   ]
  },
  {
   "cell_type": "markdown",
   "metadata": {},
   "source": [
    "![](../Images/titanic_boat.jpg)"
   ]
  },
  {
   "cell_type": "code",
   "execution_count": null,
   "metadata": {
    "collapsed": true
   },
   "outputs": [],
   "source": [
    "#Importing Libaries \n",
    "import pandas as pd\n",
    "import matplotlib.pyplot as plt\n",
    "%matplotlib inline "
   ]
  },
  {
   "cell_type": "code",
   "execution_count": null,
   "metadata": {
    "collapsed": false
   },
   "outputs": [],
   "source": [
    "#load in the data from a CSV file\n",
    "data = pd.read_csv('../train.csv')"
   ]
  },
  {
   "cell_type": "code",
   "execution_count": null,
   "metadata": {
    "collapsed": false
   },
   "outputs": [],
   "source": [
    "#let's check our data\n",
    "data"
   ]
  },
  {
   "cell_type": "code",
   "execution_count": null,
   "metadata": {
    "collapsed": false
   },
   "outputs": [],
   "source": [
    "####################### Just run me  Shift + Enter  #######################\n",
    "\n",
    "#Fixing Pandas options to display all rows\n",
    "pd.set_option('display.max_rows', 1000)\n",
    "data.columns = [u'PassengerId', u'Survived', u'Class', u'Name', u'Gender', u'Age',\n",
    "       u'Siblings', u'Parents', u'Ticket', u'Fare', u'Cabin', u'Port']\n",
    "data = data.drop(['PassengerId', 'Cabin'], axis=1)\n",
    "data.Gender = data.Gender.map({'female' : 0, 'male' : 1})\n",
    "\n",
    "#Fill missing Ages and Fares with median\n",
    "data.loc[(data.Age.isnull()), 'Age'] = data['Age'].dropna().median()\n",
    "data.loc[(data.Fare.isnull()), 'Fare'] = data['Fare'].dropna().median()"
   ]
  },
  {
   "cell_type": "markdown",
   "metadata": {},
   "source": [
    "### It's important to split up the data before training your model."
   ]
  },
  {
   "cell_type": "code",
   "execution_count": null,
   "metadata": {
    "collapsed": false
   },
   "outputs": [],
   "source": [
    "#Split the data into X_train, X_test, y_train, and y_test\n",
    "from sklearn.cross_validation import train_test_split\n",
    "\n",
    "X_train, X_test, y_train, y_test = train_test_split(\n",
    "    data.drop('Survived', axis=1), data['Survived'], test_size=0.33, random_state=42)\n",
    "X_train.head()"
   ]
  },
  {
   "cell_type": "code",
   "execution_count": null,
   "metadata": {
    "collapsed": false
   },
   "outputs": [],
   "source": [
    "from sklearn.tree import DecisionTreeClassifier\n",
    "decision_tree = DecisionTreeClassifier()"
   ]
  },
  {
   "cell_type": "code",
   "execution_count": null,
   "metadata": {
    "collapsed": false
   },
   "outputs": [],
   "source": [
    "# Fill in '?' with 'Gender', 'Fare', 'Parents', 'Age', or 'Class'\n",
    "tree = decision_tree.fit(X_train[['?', '?']], y_train)"
   ]
  },
  {
   "cell_type": "code",
   "execution_count": null,
   "metadata": {
    "collapsed": false
   },
   "outputs": [],
   "source": [
    "#Try! uncomment the features you used above and set value to it \n",
    "#Gender = ? # True(or 1) for males or False(or 0) for females.\n",
    "#Class = ?  # Class 1, 2, or 3  \n",
    "#Fare = ?\n",
    "#Parents = ?\n",
    "#Age = ?\n",
    "\n",
    "####################### Decision Tree Prediction #######################\n",
    "if tree.predict([?, ?])[0]: print '\\nThey survived! :) \\n'\n",
    "else: print '\\nThey did not survive :( \\n'"
   ]
  },
  {
   "cell_type": "markdown",
   "metadata": {},
   "source": [
    "# Visualize"
   ]
  },
  {
   "cell_type": "markdown",
   "metadata": {},
   "source": [
    "![](../DT_Titanic.png)"
   ]
  },
  {
   "cell_type": "code",
   "execution_count": null,
   "metadata": {
    "collapsed": true
   },
   "outputs": [],
   "source": [
    "# Trainning with all the features\n",
    "features = ['Gender', 'Class', 'Fare', 'Parents', 'Age']\n",
    "tree = decision_tree.fit(X_train[features], y_train)"
   ]
  },
  {
   "cell_type": "code",
   "execution_count": null,
   "metadata": {
    "collapsed": false,
    "scrolled": true
   },
   "outputs": [],
   "source": [
    "# How good is our model?\n",
    "tree.score(X_test[features], y_test)"
   ]
  },
  {
   "cell_type": "code",
   "execution_count": null,
   "metadata": {
    "collapsed": true
   },
   "outputs": [],
   "source": [
    "# What if we train with less features? \n",
    "# Take two elements out from the list below \n",
    "features = ['Gender', 'Class', 'Fare', 'Parents', 'Age']"
   ]
  },
  {
   "cell_type": "code",
   "execution_count": null,
   "metadata": {
    "collapsed": true
   },
   "outputs": [],
   "source": [
    "# Trainning the model again\n",
    "tree = decision_tree.fit(X_train[?], y_train)"
   ]
  },
  {
   "cell_type": "code",
   "execution_count": null,
   "metadata": {
    "collapsed": true
   },
   "outputs": [],
   "source": [
    "# How good is our model now?\n",
    "tree.score(?, y_test)"
   ]
  }
 ],
 "metadata": {
  "kernelspec": {
   "display_name": "Python 2",
   "language": "python",
   "name": "python2"
  },
  "language_info": {
   "codemirror_mode": {
    "name": "ipython",
    "version": 2
   },
   "file_extension": ".py",
   "mimetype": "text/x-python",
   "name": "python",
   "nbconvert_exporter": "python",
   "pygments_lexer": "ipython2",
   "version": "2.7.12"
  }
 },
 "nbformat": 4,
 "nbformat_minor": 1
}
